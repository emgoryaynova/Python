{
 "cells": [
  {
   "cell_type": "markdown",
   "metadata": {},
   "source": [
    "К вам поступила информация о числе заказов за прошедшие 3 месяца с разрешением по неделям. Постройте (если это возможно) прогноз продаж на следующие 3 месяца, с учётом того, что в неделю с 2020-02-02 по 2020-02-09 была проведена массивная акция, повысившая число заказов на 7%"
   ]
  },
  {
   "cell_type": "code",
   "execution_count": 116,
   "metadata": {},
   "outputs": [],
   "source": [
    "#Импортирую библиотеки\n",
    "import pandas as pd\n",
    "import seaborn as sns\n",
    "import os\n",
    "import matplotlib.pyplot as plt \n",
    "import numpy as np\n",
    "import plotly.express as px\n",
    "import plotly.graph_objs as go\n",
    "from fbprophet import Prophet\n",
    "import holidays\n",
    "\n",
    "%matplotlib inline "
   ]
  },
  {
   "cell_type": "code",
   "execution_count": 117,
   "metadata": {},
   "outputs": [],
   "source": [
    "#Загружаю данные\n",
    "data = pd.read_csv('https://stepik.org/media/attachments/lesson/426638/test2_completed.csv')"
   ]
  },
  {
   "cell_type": "code",
   "execution_count": 118,
   "metadata": {},
   "outputs": [],
   "source": [
    "#Переименовываю столбцы\n",
    "data = data.rename(columns = {'Дата':'ds', 'Число заказов':'y'})"
   ]
  },
  {
   "cell_type": "code",
   "execution_count": 119,
   "metadata": {},
   "outputs": [],
   "source": [
    "data.ds = pd.to_datetime(data.ds)"
   ]
  },
  {
   "cell_type": "markdown",
   "metadata": {},
   "source": [
    "Перед построением прогноза важно провести дескриптивный анализ и понять, возможно ли построить качественный прогноз на существующих данных"
   ]
  },
  {
   "cell_type": "code",
   "execution_count": 120,
   "metadata": {},
   "outputs": [
    {
     "data": {
      "text/html": [
       "<div>\n",
       "<style scoped>\n",
       "    .dataframe tbody tr th:only-of-type {\n",
       "        vertical-align: middle;\n",
       "    }\n",
       "\n",
       "    .dataframe tbody tr th {\n",
       "        vertical-align: top;\n",
       "    }\n",
       "\n",
       "    .dataframe thead th {\n",
       "        text-align: right;\n",
       "    }\n",
       "</style>\n",
       "<table border=\"1\" class=\"dataframe\">\n",
       "  <thead>\n",
       "    <tr style=\"text-align: right;\">\n",
       "      <th></th>\n",
       "      <th>y</th>\n",
       "    </tr>\n",
       "  </thead>\n",
       "  <tbody>\n",
       "    <tr>\n",
       "      <th>count</th>\n",
       "      <td>14.000000</td>\n",
       "    </tr>\n",
       "    <tr>\n",
       "      <th>mean</th>\n",
       "      <td>2127.428571</td>\n",
       "    </tr>\n",
       "    <tr>\n",
       "      <th>std</th>\n",
       "      <td>1044.624976</td>\n",
       "    </tr>\n",
       "    <tr>\n",
       "      <th>min</th>\n",
       "      <td>650.000000</td>\n",
       "    </tr>\n",
       "    <tr>\n",
       "      <th>25%</th>\n",
       "      <td>1254.250000</td>\n",
       "    </tr>\n",
       "    <tr>\n",
       "      <th>50%</th>\n",
       "      <td>2078.500000</td>\n",
       "    </tr>\n",
       "    <tr>\n",
       "      <th>75%</th>\n",
       "      <td>2702.250000</td>\n",
       "    </tr>\n",
       "    <tr>\n",
       "      <th>max</th>\n",
       "      <td>3857.000000</td>\n",
       "    </tr>\n",
       "  </tbody>\n",
       "</table>\n",
       "</div>"
      ],
      "text/plain": [
       "                 y\n",
       "count    14.000000\n",
       "mean   2127.428571\n",
       "std    1044.624976\n",
       "min     650.000000\n",
       "25%    1254.250000\n",
       "50%    2078.500000\n",
       "75%    2702.250000\n",
       "max    3857.000000"
      ]
     },
     "execution_count": 120,
     "metadata": {},
     "output_type": "execute_result"
    }
   ],
   "source": [
    "data.describe()"
   ]
  },
  {
   "cell_type": "code",
   "execution_count": 142,
   "metadata": {},
   "outputs": [
    {
     "data": {
      "image/png": "[encoded data removed]",
      "text/plain": [
       "<Figure size 864x360 with 1 Axes>"
      ]
     },
     "metadata": {
      "needs_background": "light"
     },
     "output_type": "display_data"
    }
   ],
   "source": [
    "plt.figure(figsize = (12,5))\n",
    "ax = sns.lineplot(x='ds', y='y', data = data)"
   ]
  },
  {
   "cell_type": "markdown",
   "metadata": {},
   "source": [
    "Всего в датасете представлены 14 наблюдений за 14 недель. \n",
    "Опираясь на задание, нам необходимо сделать прогноз на 3 последующих месяца, то есть на 12 недель. \n",
    "Данные датасета представляют из себя одномерный временной ряд, где показателем является число заказов. \n",
    "В тексте задания упоминается проведенная \"массивная акция\", однако непонятно, как этот фактор влияет на изменение числа заказов. А также есть ли другие факторы, способные влиять на изменение числа заказов (кроме временных факторов, таких как сезонность/праздничные дни)?\n",
    "\n",
    "С моей точки зрения, в датасете недостаточно данных для определения паттернов во времени. \n",
    "Однако, продолжу анализировать существующий датасет на предмет наличия аномалий."
   ]
  },
  {
   "cell_type": "code",
   "execution_count": 122,
   "metadata": {},
   "outputs": [],
   "source": [
    "#Считаю скользящее среднее (2)\n",
    "data['rolling_avg'] = data.y.rolling(2).mean()"
   ]
  },
  {
   "cell_type": "code",
   "execution_count": 141,
   "metadata": {},
   "outputs": [
    {
     "data": {
      "text/plain": [
       "<matplotlib.legend.Legend at 0x7f3ddb1d8da0>"
      ]
     },
     "execution_count": 141,
     "metadata": {},
     "output_type": "execute_result"
    },
    {
     "data": {
      "image/png": "[encoded data removed]",
      "text/plain": [
       "<Figure size 864x360 with 1 Axes>"
      ]
     },
     "metadata": {
      "needs_background": "light"
     },
     "output_type": "display_data"
    }
   ],
   "source": [
    "plt.figure(figsize = (12,5))\n",
    "ax = sns.lineplot(x='ds', y='y', data = data)\n",
    "ax = sns.lineplot(x='ds', y='rolling_avg', data = data)\n",
    "ax.legend(['Fact', 'Rolling average'])"
   ]
  },
  {
   "cell_type": "code",
   "execution_count": 124,
   "metadata": {
    "scrolled": true
   },
   "outputs": [],
   "source": [
    "#Высчитываю разницу между фактическим числом заказов и скользящим средним\n",
    "data['delta'] = abs(data.y - data.rolling_avg)\n",
    "data['delta %'] = abs(data.y - data.rolling_avg)/data.y*100"
   ]
  },
  {
   "cell_type": "code",
   "execution_count": 125,
   "metadata": {},
   "outputs": [
    {
     "data": {
      "text/html": [
       "<div>\n",
       "<style scoped>\n",
       "    .dataframe tbody tr th:only-of-type {\n",
       "        vertical-align: middle;\n",
       "    }\n",
       "\n",
       "    .dataframe tbody tr th {\n",
       "        vertical-align: top;\n",
       "    }\n",
       "\n",
       "    .dataframe thead th {\n",
       "        text-align: right;\n",
       "    }\n",
       "</style>\n",
       "<table border=\"1\" class=\"dataframe\">\n",
       "  <thead>\n",
       "    <tr style=\"text-align: right;\">\n",
       "      <th></th>\n",
       "      <th>ds</th>\n",
       "      <th>y</th>\n",
       "      <th>rolling_avg</th>\n",
       "      <th>delta</th>\n",
       "      <th>delta %</th>\n",
       "    </tr>\n",
       "  </thead>\n",
       "  <tbody>\n",
       "    <tr>\n",
       "      <th>11</th>\n",
       "      <td>2020-03-22</td>\n",
       "      <td>3492</td>\n",
       "      <td>3113.0</td>\n",
       "      <td>379.0</td>\n",
       "      <td>10.853379</td>\n",
       "    </tr>\n",
       "    <tr>\n",
       "      <th>5</th>\n",
       "      <td>2020-02-09</td>\n",
       "      <td>1823</td>\n",
       "      <td>1656.0</td>\n",
       "      <td>167.0</td>\n",
       "      <td>9.160724</td>\n",
       "    </tr>\n",
       "    <tr>\n",
       "      <th>4</th>\n",
       "      <td>2020-02-02</td>\n",
       "      <td>1489</td>\n",
       "      <td>1332.5</td>\n",
       "      <td>156.5</td>\n",
       "      <td>10.510410</td>\n",
       "    </tr>\n",
       "    <tr>\n",
       "      <th>9</th>\n",
       "      <td>2020-03-08</td>\n",
       "      <td>2607</td>\n",
       "      <td>2470.5</td>\n",
       "      <td>136.5</td>\n",
       "      <td>5.235903</td>\n",
       "    </tr>\n",
       "    <tr>\n",
       "      <th>13</th>\n",
       "      <td>2020-04-05</td>\n",
       "      <td>3857</td>\n",
       "      <td>3732.5</td>\n",
       "      <td>124.5</td>\n",
       "      <td>3.227897</td>\n",
       "    </tr>\n",
       "  </tbody>\n",
       "</table>\n",
       "</div>"
      ],
      "text/plain": [
       "           ds     y  rolling_avg  delta    delta %\n",
       "11 2020-03-22  3492       3113.0  379.0  10.853379\n",
       "5  2020-02-09  1823       1656.0  167.0   9.160724\n",
       "4  2020-02-02  1489       1332.5  156.5  10.510410\n",
       "9  2020-03-08  2607       2470.5  136.5   5.235903\n",
       "13 2020-04-05  3857       3732.5  124.5   3.227897"
      ]
     },
     "execution_count": 125,
     "metadata": {},
     "output_type": "execute_result"
    }
   ],
   "source": [
    "#В таблице представлены 5 недель, где представлена наибольшая разница между фактическим числом заказов и скользящим средним\n",
    "data.sort_values('delta', ascending = False).head(5)"
   ]
  },
  {
   "cell_type": "markdown",
   "metadata": {},
   "source": [
    "Из таблицы и графика можно увидеть, что наибольший скачок был зафиксирован 22 марта, в тот момент, когда не проводилась \"массивная акция\". Для дальнейшего процесса прогнозирования необходимо выяснить, какие факторы повлияли на этот скачок? Возможно, проводилась какая-то другая акция, были внесены изменения в стратегию продаж, произошли изменения на сайте/магазине/приложении (в завимисомости от типа бизнеса)."
   ]
  },
  {
   "cell_type": "markdown",
   "metadata": {},
   "source": [
    "Получив данную задачу, в первую очередь, я бы задала вопрос бизнесу о цели данного прогноза. Что бизнес пытается решить, имея данный прогноз? Какие действия будут сделаны?\n",
    "С моей точки зрения, имеющиейся количество наблюдений недостаточно для построение качественного прогноза. Возможно, имеется больше исторических данных, которые можно добавить в датасет.\n",
    "\n",
    "Во-вторых, я бы уточнила, почему используется именно недельный разрез? С точки зрения диджитал-маркетинга на количество заказов онлайн могут влиять определнные онлайн-кампании, результаты которых могут определятся днями (блогер опубликовал пост в определенный день, важно увидеть этот скачок в данных).\n",
    "\n",
    "В-третьих, бы проконсультировалась с бизнесом, какие дополнительные факторы могут влиять на изменение продаж? А также, по возможности, добавила все эти факторы в датасет (например, объем инвестиций в платную рекламу (в денежном эквиваленте) / количество визитов на сайт, товаров в корзине, % конверсии итд). \n",
    "\n",
    "Продолжаю строить прогноз, предупредив всех стейкхолдеров о существующих рисках."
   ]
  },
  {
   "cell_type": "code",
   "execution_count": 126,
   "metadata": {},
   "outputs": [
    {
     "data": {
      "text/html": [
       "<div>\n",
       "<style scoped>\n",
       "    .dataframe tbody tr th:only-of-type {\n",
       "        vertical-align: middle;\n",
       "    }\n",
       "\n",
       "    .dataframe tbody tr th {\n",
       "        vertical-align: top;\n",
       "    }\n",
       "\n",
       "    .dataframe thead th {\n",
       "        text-align: right;\n",
       "    }\n",
       "</style>\n",
       "<table border=\"1\" class=\"dataframe\">\n",
       "  <thead>\n",
       "    <tr style=\"text-align: right;\">\n",
       "      <th></th>\n",
       "      <th>ds</th>\n",
       "      <th>holiday</th>\n",
       "    </tr>\n",
       "  </thead>\n",
       "  <tbody>\n",
       "    <tr>\n",
       "      <th>9</th>\n",
       "      <td>2020-03-08</td>\n",
       "      <td>День женщин</td>\n",
       "    </tr>\n",
       "    <tr>\n",
       "      <th>10</th>\n",
       "      <td>2020-05-01</td>\n",
       "      <td>Праздник Весны и Труда</td>\n",
       "    </tr>\n",
       "    <tr>\n",
       "      <th>11</th>\n",
       "      <td>2020-05-09</td>\n",
       "      <td>День Победы</td>\n",
       "    </tr>\n",
       "    <tr>\n",
       "      <th>12</th>\n",
       "      <td>2020-06-12</td>\n",
       "      <td>День России</td>\n",
       "    </tr>\n",
       "    <tr>\n",
       "      <th>13</th>\n",
       "      <td>2020-11-04</td>\n",
       "      <td>День народного единства</td>\n",
       "    </tr>\n",
       "  </tbody>\n",
       "</table>\n",
       "</div>"
      ],
      "text/plain": [
       "           ds                  holiday\n",
       "9  2020-03-08              День женщин\n",
       "10 2020-05-01   Праздник Весны и Труда\n",
       "11 2020-05-09              День Победы\n",
       "12 2020-06-12              День России\n",
       "13 2020-11-04  День народного единства"
      ]
     },
     "execution_count": 126,
     "metadata": {},
     "output_type": "execute_result"
    }
   ],
   "source": [
    "holidays_dict = holidays.RU(years=(2020))\n",
    "df_holidays = pd.DataFrame.from_dict(holidays_dict, orient='index') \\\n",
    "    .reset_index()\n",
    "df_holidays = df_holidays.rename({'index':'ds', 0:'holiday'}, axis ='columns')\n",
    "df_holidays['ds'] = pd.to_datetime(df_holidays.ds)\n",
    "df_holidays = df_holidays.sort_values(by=['ds'])\n",
    "df_holidays = df_holidays.reset_index(drop=True)\n",
    "df_holidays.tail()"
   ]
  },
  {
   "cell_type": "markdown",
   "metadata": {},
   "source": [
    "Для построения Prophet модели я не добавляю \"массовую акцию\" как регрессор, так как исходя из дескриптивного анализа было выяснено, что существуют и другие неизвестные факторы, которые влияют на объем продаж."
   ]
  },
  {
   "cell_type": "code",
   "execution_count": 127,
   "metadata": {},
   "outputs": [],
   "source": [
    "# Период, который надо отрезать и предсказать (проверка модели)\n",
    "predictions = 5\n",
    "\n",
    "# Отрезаем из обучающей выборки последние N точек, чтобы измерить на них качество\n",
    "train_df = data[:-predictions]"
   ]
  },
  {
   "cell_type": "code",
   "execution_count": 128,
   "metadata": {},
   "outputs": [
    {
     "data": {
      "text/html": [
       "<div>\n",
       "<style scoped>\n",
       "    .dataframe tbody tr th:only-of-type {\n",
       "        vertical-align: middle;\n",
       "    }\n",
       "\n",
       "    .dataframe tbody tr th {\n",
       "        vertical-align: top;\n",
       "    }\n",
       "\n",
       "    .dataframe thead th {\n",
       "        text-align: right;\n",
       "    }\n",
       "</style>\n",
       "<table border=\"1\" class=\"dataframe\">\n",
       "  <thead>\n",
       "    <tr style=\"text-align: right;\">\n",
       "      <th></th>\n",
       "      <th>ds</th>\n",
       "      <th>y</th>\n",
       "      <th>rolling_avg</th>\n",
       "      <th>delta</th>\n",
       "      <th>delta %</th>\n",
       "    </tr>\n",
       "  </thead>\n",
       "  <tbody>\n",
       "    <tr>\n",
       "      <th>0</th>\n",
       "      <td>2020-01-05</td>\n",
       "      <td>650</td>\n",
       "      <td>NaN</td>\n",
       "      <td>NaN</td>\n",
       "      <td>NaN</td>\n",
       "    </tr>\n",
       "    <tr>\n",
       "      <th>1</th>\n",
       "      <td>2020-01-12</td>\n",
       "      <td>837</td>\n",
       "      <td>743.5</td>\n",
       "      <td>93.5</td>\n",
       "      <td>11.170848</td>\n",
       "    </tr>\n",
       "    <tr>\n",
       "      <th>2</th>\n",
       "      <td>2020-01-19</td>\n",
       "      <td>1020</td>\n",
       "      <td>928.5</td>\n",
       "      <td>91.5</td>\n",
       "      <td>8.970588</td>\n",
       "    </tr>\n",
       "    <tr>\n",
       "      <th>3</th>\n",
       "      <td>2020-01-26</td>\n",
       "      <td>1176</td>\n",
       "      <td>1098.0</td>\n",
       "      <td>78.0</td>\n",
       "      <td>6.632653</td>\n",
       "    </tr>\n",
       "    <tr>\n",
       "      <th>4</th>\n",
       "      <td>2020-02-02</td>\n",
       "      <td>1489</td>\n",
       "      <td>1332.5</td>\n",
       "      <td>156.5</td>\n",
       "      <td>10.510410</td>\n",
       "    </tr>\n",
       "    <tr>\n",
       "      <th>5</th>\n",
       "      <td>2020-02-09</td>\n",
       "      <td>1823</td>\n",
       "      <td>1656.0</td>\n",
       "      <td>167.0</td>\n",
       "      <td>9.160724</td>\n",
       "    </tr>\n",
       "    <tr>\n",
       "      <th>6</th>\n",
       "      <td>2020-02-16</td>\n",
       "      <td>1991</td>\n",
       "      <td>1907.0</td>\n",
       "      <td>84.0</td>\n",
       "      <td>4.218985</td>\n",
       "    </tr>\n",
       "    <tr>\n",
       "      <th>7</th>\n",
       "      <td>2020-02-23</td>\n",
       "      <td>2166</td>\n",
       "      <td>2078.5</td>\n",
       "      <td>87.5</td>\n",
       "      <td>4.039705</td>\n",
       "    </tr>\n",
       "    <tr>\n",
       "      <th>8</th>\n",
       "      <td>2020-03-01</td>\n",
       "      <td>2334</td>\n",
       "      <td>2250.0</td>\n",
       "      <td>84.0</td>\n",
       "      <td>3.598972</td>\n",
       "    </tr>\n",
       "    <tr>\n",
       "      <th>9</th>\n",
       "      <td>2020-03-08</td>\n",
       "      <td>2607</td>\n",
       "      <td>2470.5</td>\n",
       "      <td>136.5</td>\n",
       "      <td>5.235903</td>\n",
       "    </tr>\n",
       "    <tr>\n",
       "      <th>10</th>\n",
       "      <td>2020-03-15</td>\n",
       "      <td>2734</td>\n",
       "      <td>2670.5</td>\n",
       "      <td>63.5</td>\n",
       "      <td>2.322604</td>\n",
       "    </tr>\n",
       "    <tr>\n",
       "      <th>11</th>\n",
       "      <td>2020-03-22</td>\n",
       "      <td>3492</td>\n",
       "      <td>3113.0</td>\n",
       "      <td>379.0</td>\n",
       "      <td>10.853379</td>\n",
       "    </tr>\n",
       "    <tr>\n",
       "      <th>12</th>\n",
       "      <td>2020-03-29</td>\n",
       "      <td>3608</td>\n",
       "      <td>3550.0</td>\n",
       "      <td>58.0</td>\n",
       "      <td>1.607539</td>\n",
       "    </tr>\n",
       "    <tr>\n",
       "      <th>13</th>\n",
       "      <td>2020-04-05</td>\n",
       "      <td>3857</td>\n",
       "      <td>3732.5</td>\n",
       "      <td>124.5</td>\n",
       "      <td>3.227897</td>\n",
       "    </tr>\n",
       "  </tbody>\n",
       "</table>\n",
       "</div>"
      ],
      "text/plain": [
       "           ds     y  rolling_avg  delta    delta %\n",
       "0  2020-01-05   650          NaN    NaN        NaN\n",
       "1  2020-01-12   837        743.5   93.5  11.170848\n",
       "2  2020-01-19  1020        928.5   91.5   8.970588\n",
       "3  2020-01-26  1176       1098.0   78.0   6.632653\n",
       "4  2020-02-02  1489       1332.5  156.5  10.510410\n",
       "5  2020-02-09  1823       1656.0  167.0   9.160724\n",
       "6  2020-02-16  1991       1907.0   84.0   4.218985\n",
       "7  2020-02-23  2166       2078.5   87.5   4.039705\n",
       "8  2020-03-01  2334       2250.0   84.0   3.598972\n",
       "9  2020-03-08  2607       2470.5  136.5   5.235903\n",
       "10 2020-03-15  2734       2670.5   63.5   2.322604\n",
       "11 2020-03-22  3492       3113.0  379.0  10.853379\n",
       "12 2020-03-29  3608       3550.0   58.0   1.607539\n",
       "13 2020-04-05  3857       3732.5  124.5   3.227897"
      ]
     },
     "execution_count": 128,
     "metadata": {},
     "output_type": "execute_result"
    }
   ],
   "source": [
    "data"
   ]
  },
  {
   "cell_type": "code",
   "execution_count": 129,
   "metadata": {},
   "outputs": [
    {
     "data": {
      "text/html": [
       "<div>\n",
       "<style scoped>\n",
       "    .dataframe tbody tr th:only-of-type {\n",
       "        vertical-align: middle;\n",
       "    }\n",
       "\n",
       "    .dataframe tbody tr th {\n",
       "        vertical-align: top;\n",
       "    }\n",
       "\n",
       "    .dataframe thead th {\n",
       "        text-align: right;\n",
       "    }\n",
       "</style>\n",
       "<table border=\"1\" class=\"dataframe\">\n",
       "  <thead>\n",
       "    <tr style=\"text-align: right;\">\n",
       "      <th></th>\n",
       "      <th>ds</th>\n",
       "      <th>y</th>\n",
       "      <th>rolling_avg</th>\n",
       "      <th>delta</th>\n",
       "      <th>delta %</th>\n",
       "    </tr>\n",
       "  </thead>\n",
       "  <tbody>\n",
       "    <tr>\n",
       "      <th>0</th>\n",
       "      <td>2020-01-05</td>\n",
       "      <td>650</td>\n",
       "      <td>NaN</td>\n",
       "      <td>NaN</td>\n",
       "      <td>NaN</td>\n",
       "    </tr>\n",
       "    <tr>\n",
       "      <th>1</th>\n",
       "      <td>2020-01-12</td>\n",
       "      <td>837</td>\n",
       "      <td>743.5</td>\n",
       "      <td>93.5</td>\n",
       "      <td>11.170848</td>\n",
       "    </tr>\n",
       "    <tr>\n",
       "      <th>2</th>\n",
       "      <td>2020-01-19</td>\n",
       "      <td>1020</td>\n",
       "      <td>928.5</td>\n",
       "      <td>91.5</td>\n",
       "      <td>8.970588</td>\n",
       "    </tr>\n",
       "    <tr>\n",
       "      <th>3</th>\n",
       "      <td>2020-01-26</td>\n",
       "      <td>1176</td>\n",
       "      <td>1098.0</td>\n",
       "      <td>78.0</td>\n",
       "      <td>6.632653</td>\n",
       "    </tr>\n",
       "    <tr>\n",
       "      <th>4</th>\n",
       "      <td>2020-02-02</td>\n",
       "      <td>1489</td>\n",
       "      <td>1332.5</td>\n",
       "      <td>156.5</td>\n",
       "      <td>10.510410</td>\n",
       "    </tr>\n",
       "    <tr>\n",
       "      <th>5</th>\n",
       "      <td>2020-02-09</td>\n",
       "      <td>1823</td>\n",
       "      <td>1656.0</td>\n",
       "      <td>167.0</td>\n",
       "      <td>9.160724</td>\n",
       "    </tr>\n",
       "    <tr>\n",
       "      <th>6</th>\n",
       "      <td>2020-02-16</td>\n",
       "      <td>1991</td>\n",
       "      <td>1907.0</td>\n",
       "      <td>84.0</td>\n",
       "      <td>4.218985</td>\n",
       "    </tr>\n",
       "    <tr>\n",
       "      <th>7</th>\n",
       "      <td>2020-02-23</td>\n",
       "      <td>2166</td>\n",
       "      <td>2078.5</td>\n",
       "      <td>87.5</td>\n",
       "      <td>4.039705</td>\n",
       "    </tr>\n",
       "    <tr>\n",
       "      <th>8</th>\n",
       "      <td>2020-03-01</td>\n",
       "      <td>2334</td>\n",
       "      <td>2250.0</td>\n",
       "      <td>84.0</td>\n",
       "      <td>3.598972</td>\n",
       "    </tr>\n",
       "  </tbody>\n",
       "</table>\n",
       "</div>"
      ],
      "text/plain": [
       "          ds     y  rolling_avg  delta    delta %\n",
       "0 2020-01-05   650          NaN    NaN        NaN\n",
       "1 2020-01-12   837        743.5   93.5  11.170848\n",
       "2 2020-01-19  1020        928.5   91.5   8.970588\n",
       "3 2020-01-26  1176       1098.0   78.0   6.632653\n",
       "4 2020-02-02  1489       1332.5  156.5  10.510410\n",
       "5 2020-02-09  1823       1656.0  167.0   9.160724\n",
       "6 2020-02-16  1991       1907.0   84.0   4.218985\n",
       "7 2020-02-23  2166       2078.5   87.5   4.039705\n",
       "8 2020-03-01  2334       2250.0   84.0   3.598972"
      ]
     },
     "execution_count": 129,
     "metadata": {},
     "output_type": "execute_result"
    }
   ],
   "source": [
    "train_df"
   ]
  },
  {
   "cell_type": "code",
   "execution_count": 130,
   "metadata": {},
   "outputs": [
    {
     "name": "stderr",
     "output_type": "stream",
     "text": [
      "INFO:fbprophet:n_changepoints greater than number of observations. Using 6.\n"
     ]
    },
    {
     "data": {
      "text/plain": [
       "<fbprophet.forecaster.Prophet at 0x7f3ddc4fe9e8>"
      ]
     },
     "execution_count": 130,
     "metadata": {},
     "output_type": "execute_result"
    }
   ],
   "source": [
    "m = Prophet(holidays=df_holidays, daily_seasonality=False, weekly_seasonality=False, yearly_seasonality=False)\n",
    "m.fit(train_df)"
   ]
  },
  {
   "cell_type": "code",
   "execution_count": 131,
   "metadata": {},
   "outputs": [],
   "source": [
    "# Предсказываем 5 недель\n",
    "future = m.make_future_dataframe(periods=predictions, freq = 'W')\n",
    "forecast = m.predict(future)"
   ]
  },
  {
   "cell_type": "code",
   "execution_count": 132,
   "metadata": {},
   "outputs": [],
   "source": [
    "forecast.ds = pd.to_datetime(forecast.ds)"
   ]
  },
  {
   "cell_type": "code",
   "execution_count": 139,
   "metadata": {
    "scrolled": true
   },
   "outputs": [
    {
     "data": {
      "text/plain": [
       "<matplotlib.legend.Legend at 0x7f3ddb3b6b00>"
      ]
     },
     "execution_count": 139,
     "metadata": {},
     "output_type": "execute_result"
    },
    {
     "data": {
      "image/png": "[encoded data removed]",
      "text/plain": [
       "<Figure size 864x360 with 1 Axes>"
      ]
     },
     "metadata": {
      "needs_background": "light"
     },
     "output_type": "display_data"
    }
   ],
   "source": [
    "#Строим графики факта и прогноза\n",
    "plt.figure(figsize = (12,5))\n",
    "ax = sns.lineplot(x='ds', y='y', data = data)\n",
    "ax = sns.lineplot(x='ds', y='yhat', data = forecast)\n",
    "ax.legend(['Fact', 'Forecast'])"
   ]
  },
  {
   "cell_type": "code",
   "execution_count": 134,
   "metadata": {},
   "outputs": [
    {
     "name": "stdout",
     "output_type": "stream",
     "text": [
      "MAPE (средняя абсолютная ошибка в процентах) –  6.7506614855876474 %\n",
      "MAE (средняя абсолютная ошибка) –  236.3392134875685\n"
     ]
    }
   ],
   "source": [
    "# Смотрим на ошибки модели\n",
    "cmp_df = forecast.set_index('ds')[['yhat', 'yhat_lower', 'yhat_upper']].join(data.set_index('ds'))\n",
    "cmp_df['e'] = cmp_df['y'] - cmp_df['yhat']\n",
    "cmp_df['p'] = 100*cmp_df['e']/cmp_df['y']\n",
    "print('MAPE (средняя абсолютная ошибка в процентах) – ', np.mean(abs(cmp_df[-predictions:]['p'])),'%')\n",
    "print('MAE (средняя абсолютная ошибка) – ', np.mean(abs(cmp_df[-predictions:]['e'])))"
   ]
  },
  {
   "cell_type": "code",
   "execution_count": 135,
   "metadata": {},
   "outputs": [
    {
     "name": "stderr",
     "output_type": "stream",
     "text": [
      "INFO:fbprophet:n_changepoints greater than number of observations. Using 10.\n"
     ]
    },
    {
     "data": {
      "text/plain": [
       "<fbprophet.forecaster.Prophet at 0x7f3ddc3d32e8>"
      ]
     },
     "execution_count": 135,
     "metadata": {},
     "output_type": "execute_result"
    }
   ],
   "source": [
    "#Строим прогноз на полный период\n",
    "m = Prophet(holidays=df_holidays, daily_seasonality=False, weekly_seasonality=False, yearly_seasonality=False)\n",
    "m.fit(data)"
   ]
  },
  {
   "cell_type": "code",
   "execution_count": 136,
   "metadata": {},
   "outputs": [],
   "source": [
    "future = m.make_future_dataframe(periods=12, freq = 'W')\n",
    "forecast = m.predict(future)"
   ]
  },
  {
   "cell_type": "code",
   "execution_count": 140,
   "metadata": {},
   "outputs": [
    {
     "data": {
      "text/plain": [
       "<matplotlib.legend.Legend at 0x7f3ddb3c1940>"
      ]
     },
     "execution_count": 140,
     "metadata": {},
     "output_type": "execute_result"
    },
    {
     "data": {
      "image/png": "[encoded data removed]",
      "text/plain": [
       "<Figure size 864x360 with 1 Axes>"
      ]
     },
     "metadata": {
      "needs_background": "light"
     },
     "output_type": "display_data"
    }
   ],
   "source": [
    "#Строим графики факта и прогноза\n",
    "plt.figure(figsize = (12,5))\n",
    "ax = sns.lineplot(x='ds', y='y', data = data, legend ='brief')\n",
    "ax = sns.lineplot(x='ds', y='yhat', data = forecast)\n",
    "ax.legend(['Fact', 'Forecast'])"
   ]
  },
  {
   "cell_type": "markdown",
   "metadata": {},
   "source": [
    "Прогноз на ближайшие три месяца построен, однако существует множество рисков при использовании данного прогноза, которые были указаны выше.\n",
    "\n",
    "В качестве дальнейших шагов, я бы предложила бизнесу собрать больше исторических данных и подумать о возможности использовать несколько регрессоров для модели, которые могут влиять на объем продаж."
   ]
  }
 ],
 "metadata": {
  "kernelspec": {
   "display_name": "Python 3",
   "language": "python",
   "name": "python3"
  },
  "language_info": {
   "codemirror_mode": {
    "name": "ipython",
    "version": 3
   },
   "file_extension": ".py",
   "mimetype": "text/x-python",
   "name": "python",
   "nbconvert_exporter": "python",
   "pygments_lexer": "ipython3",
   "version": "3.7.3"
  }
 },
 "nbformat": 4,
 "nbformat_minor": 4
}
